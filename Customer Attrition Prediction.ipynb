{
 "cells": [
  {
   "cell_type": "markdown",
   "id": "compatible-amendment",
   "metadata": {
    "papermill": {
     "duration": 0.014071,
     "end_time": "2021-05-11T00:42:01.167632",
     "exception": false,
     "start_time": "2021-05-11T00:42:01.153561",
     "status": "completed"
    },
    "tags": []
   },
   "source": [
    "# Importing Packages"
   ]
  },
  {
   "cell_type": "code",
   "execution_count": 1,
   "id": "useful-middle",
   "metadata": {
    "execution": {
     "iopub.execute_input": "2021-05-11T00:42:01.204256Z",
     "iopub.status.busy": "2021-05-11T00:42:01.202334Z",
     "iopub.status.idle": "2021-05-11T00:42:04.813682Z",
     "shell.execute_reply": "2021-05-11T00:42:04.812817Z"
    },
    "papermill": {
     "duration": 3.632794,
     "end_time": "2021-05-11T00:42:04.813873",
     "exception": false,
     "start_time": "2021-05-11T00:42:01.181079",
     "status": "completed"
    },
    "tags": []
   },
   "outputs": [
    {
     "data": {
      "text/html": [
       "<style type='text/css'>\n",
       ".datatable table.frame { margin-bottom: 0; }\n",
       ".datatable table.frame thead { border-bottom: none; }\n",
       ".datatable table.frame tr.coltypes td {  color: #FFFFFF;  line-height: 6px;  padding: 0 0.5em;}\n",
       ".datatable .bool    { background: #DDDD99; }\n",
       ".datatable .object  { background: #565656; }\n",
       ".datatable .int     { background: #5D9E5D; }\n",
       ".datatable .float   { background: #4040CC; }\n",
       ".datatable .str     { background: #CC4040; }\n",
       ".datatable .row_index {  background: var(--jp-border-color3);  border-right: 1px solid var(--jp-border-color0);  color: var(--jp-ui-font-color3);  font-size: 9px;}\n",
       ".datatable .frame tr.coltypes .row_index {  background: var(--jp-border-color0);}\n",
       ".datatable th:nth-child(2) { padding-left: 12px; }\n",
       ".datatable .hellipsis {  color: var(--jp-cell-editor-border-color);}\n",
       ".datatable .vellipsis {  background: var(--jp-layout-color0);  color: var(--jp-cell-editor-border-color);}\n",
       ".datatable .na {  color: var(--jp-cell-editor-border-color);  font-size: 80%;}\n",
       ".datatable .footer { font-size: 9px; }\n",
       ".datatable .frame_dimensions {  background: var(--jp-border-color3);  border-top: 1px solid var(--jp-border-color0);  color: var(--jp-ui-font-color3);  display: inline-block;  opacity: 0.6;  padding: 1px 10px 1px 5px;}\n",
       "</style>\n"
      ],
      "text/plain": [
       "<IPython.core.display.HTML object>"
      ]
     },
     "metadata": {},
     "output_type": "display_data"
    }
   ],
   "source": [
    "import os\n",
    "import numpy as np\n",
    "import pandas as pd\n",
    "import matplotlib.pyplot as plt\n",
    "\n",
    "\n",
    "from sklearn.preprocessing import OneHotEncoder, LabelEncoder,MinMaxScaler,StandardScaler\n",
    "from sklearn.model_selection import StratifiedKFold, KFold, train_test_split\n",
    "from sklearn.utils import class_weight\n",
    "from sklearn.experimental import enable_hist_gradient_boosting\n",
    "from sklearn.ensemble import HistGradientBoostingClassifier\n",
    "from sklearn.metrics import roc_auc_score\n",
    "\n",
    "\n",
    "from lightgbm import LGBMClassifier\n",
    "from xgboost import XGBClassifier\n",
    "from catboost import CatBoostClassifier"
   ]
  },
  {
   "cell_type": "markdown",
   "id": "raised-spiritual",
   "metadata": {
    "papermill": {
     "duration": 0.020648,
     "end_time": "2021-05-11T00:42:04.856562",
     "exception": false,
     "start_time": "2021-05-11T00:42:04.835914",
     "status": "completed"
    },
    "tags": []
   },
   "source": [
    "# Reading Data"
   ]
  },
  {
   "cell_type": "code",
   "execution_count": 2,
   "id": "rough-lucas",
   "metadata": {
    "execution": {
     "iopub.execute_input": "2021-05-11T00:42:04.902926Z",
     "iopub.status.busy": "2021-05-11T00:42:04.902162Z",
     "iopub.status.idle": "2021-05-11T00:42:05.008419Z",
     "shell.execute_reply": "2021-05-11T00:42:05.008863Z"
    },
    "papermill": {
     "duration": 0.131299,
     "end_time": "2021-05-11T00:42:05.009034",
     "exception": false,
     "start_time": "2021-05-11T00:42:04.877735",
     "status": "completed"
    },
    "tags": []
   },
   "outputs": [
    {
     "data": {
      "text/html": [
       "<div>\n",
       "<style scoped>\n",
       "    .dataframe tbody tr th:only-of-type {\n",
       "        vertical-align: middle;\n",
       "    }\n",
       "\n",
       "    .dataframe tbody tr th {\n",
       "        vertical-align: top;\n",
       "    }\n",
       "\n",
       "    .dataframe thead th {\n",
       "        text-align: right;\n",
       "    }\n",
       "</style>\n",
       "<table border=\"1\" class=\"dataframe\">\n",
       "  <thead>\n",
       "    <tr style=\"text-align: right;\">\n",
       "      <th></th>\n",
       "      <th>ID</th>\n",
       "      <th>Aged</th>\n",
       "      <th>TotalDependents</th>\n",
       "      <th>ServiceSpan</th>\n",
       "      <th>4GService</th>\n",
       "      <th>CyberProtection</th>\n",
       "      <th>TechnicalAssistance</th>\n",
       "      <th>FilmSubscription</th>\n",
       "      <th>SettlementProcess</th>\n",
       "      <th>QuarterlyPayment</th>\n",
       "      <th>GrandPayment</th>\n",
       "      <th>CustomerAttrition</th>\n",
       "    </tr>\n",
       "  </thead>\n",
       "  <tbody>\n",
       "    <tr>\n",
       "      <th>0</th>\n",
       "      <td>B60LHTZLLPFU4IULNPUF</td>\n",
       "      <td>No</td>\n",
       "      <td>Yes</td>\n",
       "      <td>48</td>\n",
       "      <td>Wifi Broadband</td>\n",
       "      <td>No</td>\n",
       "      <td>Yes</td>\n",
       "      <td>No</td>\n",
       "      <td>Check</td>\n",
       "      <td>96.259802</td>\n",
       "      <td>4628.129119</td>\n",
       "      <td>Yes</td>\n",
       "    </tr>\n",
       "    <tr>\n",
       "      <th>1</th>\n",
       "      <td>1RUJ7ONYZHYTWKOKO1SD</td>\n",
       "      <td>No</td>\n",
       "      <td>No</td>\n",
       "      <td>45</td>\n",
       "      <td>Wifi Broadband</td>\n",
       "      <td>No</td>\n",
       "      <td>No</td>\n",
       "      <td>Yes</td>\n",
       "      <td>Bank</td>\n",
       "      <td>18.876470</td>\n",
       "      <td>922.085998</td>\n",
       "      <td>No</td>\n",
       "    </tr>\n",
       "    <tr>\n",
       "      <th>2</th>\n",
       "      <td>DZ9EEOQWSN0MYCBUPAM5</td>\n",
       "      <td>Yes</td>\n",
       "      <td>No</td>\n",
       "      <td>59</td>\n",
       "      <td>Wifi Broadband</td>\n",
       "      <td>Yes</td>\n",
       "      <td>Yes</td>\n",
       "      <td>No</td>\n",
       "      <td>Card</td>\n",
       "      <td>106.016057</td>\n",
       "      <td>6205.891129</td>\n",
       "      <td>Yes</td>\n",
       "    </tr>\n",
       "    <tr>\n",
       "      <th>3</th>\n",
       "      <td>YZ43L1UQUQACTL1PXXZG</td>\n",
       "      <td>No</td>\n",
       "      <td>No</td>\n",
       "      <td>14</td>\n",
       "      <td>Wifi Broadband</td>\n",
       "      <td>No</td>\n",
       "      <td>No</td>\n",
       "      <td>No</td>\n",
       "      <td>Check</td>\n",
       "      <td>80.108839</td>\n",
       "      <td>1248.655391</td>\n",
       "      <td>No</td>\n",
       "    </tr>\n",
       "    <tr>\n",
       "      <th>4</th>\n",
       "      <td>6P28152QGF60PDLSCB9M</td>\n",
       "      <td>No</td>\n",
       "      <td>Yes</td>\n",
       "      <td>25</td>\n",
       "      <td>Wifi Broadband</td>\n",
       "      <td>No</td>\n",
       "      <td>No</td>\n",
       "      <td>Yes</td>\n",
       "      <td>Check</td>\n",
       "      <td>51.529773</td>\n",
       "      <td>1285.321277</td>\n",
       "      <td>No</td>\n",
       "    </tr>\n",
       "  </tbody>\n",
       "</table>\n",
       "</div>"
      ],
      "text/plain": [
       "                     ID Aged TotalDependents  ServiceSpan       4GService  \\\n",
       "0  B60LHTZLLPFU4IULNPUF   No             Yes           48  Wifi Broadband   \n",
       "1  1RUJ7ONYZHYTWKOKO1SD   No              No           45  Wifi Broadband   \n",
       "2  DZ9EEOQWSN0MYCBUPAM5  Yes              No           59  Wifi Broadband   \n",
       "3  YZ43L1UQUQACTL1PXXZG   No              No           14  Wifi Broadband   \n",
       "4  6P28152QGF60PDLSCB9M   No             Yes           25  Wifi Broadband   \n",
       "\n",
       "  CyberProtection TechnicalAssistance FilmSubscription SettlementProcess  \\\n",
       "0              No                 Yes               No             Check   \n",
       "1              No                  No              Yes              Bank   \n",
       "2             Yes                 Yes               No              Card   \n",
       "3              No                  No               No             Check   \n",
       "4              No                  No              Yes             Check   \n",
       "\n",
       "   QuarterlyPayment  GrandPayment CustomerAttrition  \n",
       "0         96.259802   4628.129119               Yes  \n",
       "1         18.876470    922.085998                No  \n",
       "2        106.016057   6205.891129               Yes  \n",
       "3         80.108839   1248.655391                No  \n",
       "4         51.529773   1285.321277                No  "
      ]
     },
     "execution_count": 2,
     "metadata": {},
     "output_type": "execute_result"
    }
   ],
   "source": [
    "train_df = pd.read_csv(\"../input/customerattritionprediction/train.csv\")\n",
    "test_df = pd.read_csv(\"../input/customerattritionprediction/test.csv\")\n",
    "\n",
    "remove = True\n",
    "remove_features = ['MobileService','HardwareSupport','Married','sex']\n",
    "\n",
    "cat_features = ['Aged','TotalDependents','4GService','CyberProtection','TechnicalAssistance','FilmSubscription','SettlementProcess']\n",
    "cont_features = [\"QuarterlyPayment\", \"GrandPayment\",'ServiceSpan']\n",
    "label_col = [\"CustomerAttrition\"]\n",
    "id_col = [\"ID\"]\n",
    "\n",
    "if remove:\n",
    "    train_df = train_df.drop(remove_features,axis = 1)\n",
    "    test_df = test_df.drop(remove_features,axis = 1)\n",
    "else:\n",
    "    cat_features.extend(remove_features)\n",
    "        \n",
    "\n",
    "label_dict = {\n",
    "    \"Yes\" : 1,\n",
    "    \"No\" : 0\n",
    "}\n",
    "N_SPLITS = 9\n",
    "train_df.head()"
   ]
  },
  {
   "cell_type": "markdown",
   "id": "reported-material",
   "metadata": {
    "papermill": {
     "duration": 0.01592,
     "end_time": "2021-05-11T00:42:05.039912",
     "exception": false,
     "start_time": "2021-05-11T00:42:05.023992",
     "status": "completed"
    },
    "tags": []
   },
   "source": [
    "# Preprocessing Function"
   ]
  },
  {
   "cell_type": "code",
   "execution_count": 3,
   "id": "listed-yemen",
   "metadata": {
    "execution": {
     "iopub.execute_input": "2021-05-11T00:42:05.075424Z",
     "iopub.status.busy": "2021-05-11T00:42:05.074769Z",
     "iopub.status.idle": "2021-05-11T00:42:05.082967Z",
     "shell.execute_reply": "2021-05-11T00:42:05.083516Z"
    },
    "papermill": {
     "duration": 0.026961,
     "end_time": "2021-05-11T00:42:05.083718",
     "exception": false,
     "start_time": "2021-05-11T00:42:05.056757",
     "status": "completed"
    },
    "tags": []
   },
   "outputs": [],
   "source": [
    "#cat_encoder = OneHotEncoder()\n",
    "cat_encoders = {}\n",
    "cont_encoder = MinMaxScaler()\n",
    "#cont_encoder = StandardScaler()\n",
    "\n",
    "def preprocess_df(df, cat_features, cont_features, data = \"train\"):\n",
    "    for col in cat_features:\n",
    "        if data == \"train\":\n",
    "            cat_encoder = LabelEncoder()\n",
    "            df[col] = cat_encoder.fit_transform(df[col])\n",
    "            cat_encoders[col] = cat_encoder\n",
    "        else:\n",
    "            df[col] = cat_encoders[col].transform(df[col])\n",
    "            \n",
    "    if data == \"train\":\n",
    "        df[cont_features] = cont_encoder.fit_transform(df[cont_features])\n",
    "    else:\n",
    "        df[cont_features] = cont_encoder.transform(df[cont_features])\n",
    "    return df"
   ]
  },
  {
   "cell_type": "markdown",
   "id": "chief-norwegian",
   "metadata": {
    "papermill": {
     "duration": 0.014445,
     "end_time": "2021-05-11T00:42:05.113625",
     "exception": false,
     "start_time": "2021-05-11T00:42:05.099180",
     "status": "completed"
    },
    "tags": []
   },
   "source": [
    "# Preprocessing Data"
   ]
  },
  {
   "cell_type": "code",
   "execution_count": 4,
   "id": "caring-mailing",
   "metadata": {
    "execution": {
     "iopub.execute_input": "2021-05-11T00:42:05.168599Z",
     "iopub.status.busy": "2021-05-11T00:42:05.168047Z",
     "iopub.status.idle": "2021-05-11T00:42:05.193573Z",
     "shell.execute_reply": "2021-05-11T00:42:05.193056Z"
    },
    "papermill": {
     "duration": 0.06456,
     "end_time": "2021-05-11T00:42:05.193700",
     "exception": false,
     "start_time": "2021-05-11T00:42:05.129140",
     "status": "completed"
    },
    "tags": []
   },
   "outputs": [
    {
     "data": {
      "text/html": [
       "<div>\n",
       "<style scoped>\n",
       "    .dataframe tbody tr th:only-of-type {\n",
       "        vertical-align: middle;\n",
       "    }\n",
       "\n",
       "    .dataframe tbody tr th {\n",
       "        vertical-align: top;\n",
       "    }\n",
       "\n",
       "    .dataframe thead th {\n",
       "        text-align: right;\n",
       "    }\n",
       "</style>\n",
       "<table border=\"1\" class=\"dataframe\">\n",
       "  <thead>\n",
       "    <tr style=\"text-align: right;\">\n",
       "      <th></th>\n",
       "      <th>Aged</th>\n",
       "      <th>TotalDependents</th>\n",
       "      <th>ServiceSpan</th>\n",
       "      <th>4GService</th>\n",
       "      <th>CyberProtection</th>\n",
       "      <th>TechnicalAssistance</th>\n",
       "      <th>FilmSubscription</th>\n",
       "      <th>SettlementProcess</th>\n",
       "      <th>QuarterlyPayment</th>\n",
       "      <th>GrandPayment</th>\n",
       "    </tr>\n",
       "  </thead>\n",
       "  <tbody>\n",
       "    <tr>\n",
       "      <th>0</th>\n",
       "      <td>0</td>\n",
       "      <td>1</td>\n",
       "      <td>0.666667</td>\n",
       "      <td>2</td>\n",
       "      <td>0</td>\n",
       "      <td>1</td>\n",
       "      <td>0</td>\n",
       "      <td>2</td>\n",
       "      <td>0.769434</td>\n",
       "      <td>0.531957</td>\n",
       "    </tr>\n",
       "    <tr>\n",
       "      <th>1</th>\n",
       "      <td>0</td>\n",
       "      <td>0</td>\n",
       "      <td>0.626667</td>\n",
       "      <td>2</td>\n",
       "      <td>0</td>\n",
       "      <td>0</td>\n",
       "      <td>1</td>\n",
       "      <td>0</td>\n",
       "      <td>0.022887</td>\n",
       "      <td>0.104479</td>\n",
       "    </tr>\n",
       "    <tr>\n",
       "      <th>2</th>\n",
       "      <td>1</td>\n",
       "      <td>0</td>\n",
       "      <td>0.813333</td>\n",
       "      <td>2</td>\n",
       "      <td>1</td>\n",
       "      <td>1</td>\n",
       "      <td>0</td>\n",
       "      <td>1</td>\n",
       "      <td>0.863556</td>\n",
       "      <td>0.713946</td>\n",
       "    </tr>\n",
       "    <tr>\n",
       "      <th>3</th>\n",
       "      <td>0</td>\n",
       "      <td>0</td>\n",
       "      <td>0.213333</td>\n",
       "      <td>2</td>\n",
       "      <td>0</td>\n",
       "      <td>0</td>\n",
       "      <td>0</td>\n",
       "      <td>2</td>\n",
       "      <td>0.613619</td>\n",
       "      <td>0.142148</td>\n",
       "    </tr>\n",
       "    <tr>\n",
       "      <th>4</th>\n",
       "      <td>0</td>\n",
       "      <td>1</td>\n",
       "      <td>0.360000</td>\n",
       "      <td>2</td>\n",
       "      <td>0</td>\n",
       "      <td>0</td>\n",
       "      <td>1</td>\n",
       "      <td>2</td>\n",
       "      <td>0.337906</td>\n",
       "      <td>0.146377</td>\n",
       "    </tr>\n",
       "  </tbody>\n",
       "</table>\n",
       "</div>"
      ],
      "text/plain": [
       "   Aged  TotalDependents  ServiceSpan  4GService  CyberProtection  \\\n",
       "0     0                1     0.666667          2                0   \n",
       "1     0                0     0.626667          2                0   \n",
       "2     1                0     0.813333          2                1   \n",
       "3     0                0     0.213333          2                0   \n",
       "4     0                1     0.360000          2                0   \n",
       "\n",
       "   TechnicalAssistance  FilmSubscription  SettlementProcess  QuarterlyPayment  \\\n",
       "0                    1                 0                  2          0.769434   \n",
       "1                    0                 1                  0          0.022887   \n",
       "2                    1                 0                  1          0.863556   \n",
       "3                    0                 0                  2          0.613619   \n",
       "4                    0                 1                  2          0.337906   \n",
       "\n",
       "   GrandPayment  \n",
       "0      0.531957  \n",
       "1      0.104479  \n",
       "2      0.713946  \n",
       "3      0.142148  \n",
       "4      0.146377  "
      ]
     },
     "execution_count": 4,
     "metadata": {},
     "output_type": "execute_result"
    }
   ],
   "source": [
    "train_df[label_col[0]] = train_df[label_col[0]].map(label_dict)\n",
    "\n",
    "train_df = preprocess_df(train_df, cat_features, cont_features, data = \"train\")\n",
    "\n",
    "labels = train_df[label_col[0]]\n",
    "train_ds = train_df.drop(label_col + id_col, axis = 1)\n",
    "tot_features = list(train_ds.columns)\n",
    "cat_ids = []\n",
    "\n",
    "for i, col in enumerate(tot_features):\n",
    "    if col in cat_features:\n",
    "        cat_ids.append(i)\n",
    "class_weights = class_weight.compute_class_weight('balanced',\n",
    "                                                 classes = np.unique(labels.values),\n",
    "                                                 y = labels.values)\n",
    "train_ds.head()"
   ]
  },
  {
   "cell_type": "code",
   "execution_count": 5,
   "id": "dominican-bearing",
   "metadata": {
    "execution": {
     "iopub.execute_input": "2021-05-11T00:42:05.241029Z",
     "iopub.status.busy": "2021-05-11T00:42:05.231449Z",
     "iopub.status.idle": "2021-05-11T00:42:05.263453Z",
     "shell.execute_reply": "2021-05-11T00:42:05.262852Z"
    },
    "papermill": {
     "duration": 0.055261,
     "end_time": "2021-05-11T00:42:05.263576",
     "exception": false,
     "start_time": "2021-05-11T00:42:05.208315",
     "status": "completed"
    },
    "tags": []
   },
   "outputs": [
    {
     "data": {
      "text/html": [
       "<div>\n",
       "<style scoped>\n",
       "    .dataframe tbody tr th:only-of-type {\n",
       "        vertical-align: middle;\n",
       "    }\n",
       "\n",
       "    .dataframe tbody tr th {\n",
       "        vertical-align: top;\n",
       "    }\n",
       "\n",
       "    .dataframe thead th {\n",
       "        text-align: right;\n",
       "    }\n",
       "</style>\n",
       "<table border=\"1\" class=\"dataframe\">\n",
       "  <thead>\n",
       "    <tr style=\"text-align: right;\">\n",
       "      <th></th>\n",
       "      <th>ID</th>\n",
       "      <th>Aged</th>\n",
       "      <th>TotalDependents</th>\n",
       "      <th>ServiceSpan</th>\n",
       "      <th>4GService</th>\n",
       "      <th>CyberProtection</th>\n",
       "      <th>TechnicalAssistance</th>\n",
       "      <th>FilmSubscription</th>\n",
       "      <th>SettlementProcess</th>\n",
       "      <th>QuarterlyPayment</th>\n",
       "      <th>GrandPayment</th>\n",
       "    </tr>\n",
       "  </thead>\n",
       "  <tbody>\n",
       "    <tr>\n",
       "      <th>0</th>\n",
       "      <td>WMORTPCG3HTIPEFSGUFY</td>\n",
       "      <td>0</td>\n",
       "      <td>0</td>\n",
       "      <td>0.133333</td>\n",
       "      <td>2</td>\n",
       "      <td>0</td>\n",
       "      <td>0</td>\n",
       "      <td>1</td>\n",
       "      <td>2</td>\n",
       "      <td>0.046267</td>\n",
       "      <td>0.015548</td>\n",
       "    </tr>\n",
       "    <tr>\n",
       "      <th>1</th>\n",
       "      <td>GBLPEA16C3KGBO57KEFO</td>\n",
       "      <td>0</td>\n",
       "      <td>0</td>\n",
       "      <td>0.373333</td>\n",
       "      <td>1</td>\n",
       "      <td>0</td>\n",
       "      <td>0</td>\n",
       "      <td>1</td>\n",
       "      <td>2</td>\n",
       "      <td>0.386913</td>\n",
       "      <td>0.177285</td>\n",
       "    </tr>\n",
       "    <tr>\n",
       "      <th>2</th>\n",
       "      <td>IDCQS0CO5P29AMKY3LO1</td>\n",
       "      <td>0</td>\n",
       "      <td>0</td>\n",
       "      <td>0.906667</td>\n",
       "      <td>1</td>\n",
       "      <td>0</td>\n",
       "      <td>0</td>\n",
       "      <td>1</td>\n",
       "      <td>1</td>\n",
       "      <td>0.083581</td>\n",
       "      <td>0.192393</td>\n",
       "    </tr>\n",
       "    <tr>\n",
       "      <th>3</th>\n",
       "      <td>1IY29SDITYU6IFZ4KJB0</td>\n",
       "      <td>1</td>\n",
       "      <td>0</td>\n",
       "      <td>0.440000</td>\n",
       "      <td>1</td>\n",
       "      <td>0</td>\n",
       "      <td>1</td>\n",
       "      <td>1</td>\n",
       "      <td>0</td>\n",
       "      <td>0.376796</td>\n",
       "      <td>0.209189</td>\n",
       "    </tr>\n",
       "    <tr>\n",
       "      <th>4</th>\n",
       "      <td>T5XMW5B0YPCONH30WJD2</td>\n",
       "      <td>0</td>\n",
       "      <td>1</td>\n",
       "      <td>0.306667</td>\n",
       "      <td>1</td>\n",
       "      <td>0</td>\n",
       "      <td>0</td>\n",
       "      <td>0</td>\n",
       "      <td>0</td>\n",
       "      <td>0.034402</td>\n",
       "      <td>0.054619</td>\n",
       "    </tr>\n",
       "  </tbody>\n",
       "</table>\n",
       "</div>"
      ],
      "text/plain": [
       "                     ID  Aged  TotalDependents  ServiceSpan  4GService  \\\n",
       "0  WMORTPCG3HTIPEFSGUFY     0                0     0.133333          2   \n",
       "1  GBLPEA16C3KGBO57KEFO     0                0     0.373333          1   \n",
       "2  IDCQS0CO5P29AMKY3LO1     0                0     0.906667          1   \n",
       "3  1IY29SDITYU6IFZ4KJB0     1                0     0.440000          1   \n",
       "4  T5XMW5B0YPCONH30WJD2     0                1     0.306667          1   \n",
       "\n",
       "   CyberProtection  TechnicalAssistance  FilmSubscription  SettlementProcess  \\\n",
       "0                0                    0                 1                  2   \n",
       "1                0                    0                 1                  2   \n",
       "2                0                    0                 1                  1   \n",
       "3                0                    1                 1                  0   \n",
       "4                0                    0                 0                  0   \n",
       "\n",
       "   QuarterlyPayment  GrandPayment  \n",
       "0          0.046267      0.015548  \n",
       "1          0.386913      0.177285  \n",
       "2          0.083581      0.192393  \n",
       "3          0.376796      0.209189  \n",
       "4          0.034402      0.054619  "
      ]
     },
     "execution_count": 5,
     "metadata": {},
     "output_type": "execute_result"
    }
   ],
   "source": [
    "test_df = preprocess_df(test_df, cat_features, cont_features, data = \"test\")\n",
    "\n",
    "test_ids = test_df[\"ID\"]\n",
    "test_ds = test_df.drop(id_col, axis = 1)\n",
    "test_df.head()"
   ]
  },
  {
   "cell_type": "code",
   "execution_count": 6,
   "id": "saving-minutes",
   "metadata": {
    "execution": {
     "iopub.execute_input": "2021-05-11T00:42:05.300250Z",
     "iopub.status.busy": "2021-05-11T00:42:05.299731Z",
     "iopub.status.idle": "2021-05-11T00:42:05.304967Z",
     "shell.execute_reply": "2021-05-11T00:42:05.304436Z"
    },
    "papermill": {
     "duration": 0.025698,
     "end_time": "2021-05-11T00:42:05.305097",
     "exception": false,
     "start_time": "2021-05-11T00:42:05.279399",
     "status": "completed"
    },
    "tags": []
   },
   "outputs": [],
   "source": [
    "roc_scores = np.zeros((N_SPLITS*4))\n",
    "test_pred = {}\n",
    "num = 0"
   ]
  },
  {
   "cell_type": "markdown",
   "id": "hollywood-costs",
   "metadata": {
    "papermill": {
     "duration": 0.015423,
     "end_time": "2021-05-11T00:42:05.336132",
     "exception": false,
     "start_time": "2021-05-11T00:42:05.320709",
     "status": "completed"
    },
    "tags": []
   },
   "source": [
    "# CatBoost"
   ]
  },
  {
   "cell_type": "code",
   "execution_count": 7,
   "id": "prerequisite-advocate",
   "metadata": {
    "_kg_hide-input": false,
    "_kg_hide-output": true,
    "execution": {
     "iopub.execute_input": "2021-05-11T00:42:05.381399Z",
     "iopub.status.busy": "2021-05-11T00:42:05.376939Z",
     "iopub.status.idle": "2021-05-11T00:42:45.330402Z",
     "shell.execute_reply": "2021-05-11T00:42:45.329612Z"
    },
    "papermill": {
     "duration": 39.978357,
     "end_time": "2021-05-11T00:42:45.330560",
     "exception": false,
     "start_time": "2021-05-11T00:42:05.352203",
     "status": "completed"
    },
    "scrolled": true,
    "tags": []
   },
   "outputs": [
    {
     "name": "stdout",
     "output_type": "stream",
     "text": [
      " Running 1 of KFold 9\n",
      "0:\tlearn: 0.8008166\ttest: 0.7886525\tbest: 0.7886525 (0)\ttotal: 78.5ms\tremaining: 26m 9s\n",
      "100:\tlearn: 0.8176815\ttest: 0.8113475\tbest: 0.8141844 (88)\ttotal: 1.47s\tremaining: 4m 49s\n",
      "200:\tlearn: 0.8240724\ttest: 0.8056738\tbest: 0.8141844 (88)\ttotal: 2.88s\tremaining: 4m 43s\n",
      "Stopped by overfitting detector  (200 iterations wait)\n",
      "\n",
      "bestTest = 0.8141843972\n",
      "bestIteration = 88\n",
      "\n",
      "Shrink model to first 89 iterations.\n",
      "CB - ROC AUC Score = 0.8298164474635062\n",
      " Running 2 of KFold 9\n",
      "0:\tlearn: 0.8045446\ttest: 0.7716312\tbest: 0.7716312 (0)\ttotal: 14.3ms\tremaining: 4m 46s\n",
      "100:\tlearn: 0.8187467\ttest: 0.7872340\tbest: 0.7900709 (45)\ttotal: 1.42s\tremaining: 4m 39s\n",
      "200:\tlearn: 0.8265578\ttest: 0.7872340\tbest: 0.7943262 (163)\ttotal: 2.73s\tremaining: 4m 29s\n",
      "300:\tlearn: 0.8322386\ttest: 0.7886525\tbest: 0.7943262 (163)\ttotal: 3.98s\tremaining: 4m 20s\n",
      "Stopped by overfitting detector  (200 iterations wait)\n",
      "\n",
      "bestTest = 0.7943262411\n",
      "bestIteration = 163\n",
      "\n",
      "Shrink model to first 164 iterations.\n",
      "CB - ROC AUC Score = 0.8148215059979766\n",
      " Running 3 of KFold 9\n",
      "0:\tlearn: 0.8026269\ttest: 0.7826705\tbest: 0.7826705 (0)\ttotal: 17.1ms\tremaining: 5m 41s\n",
      "100:\tlearn: 0.8200213\ttest: 0.8139205\tbest: 0.8153409 (78)\ttotal: 1.45s\tremaining: 4m 46s\n",
      "200:\tlearn: 0.8281860\ttest: 0.8110795\tbest: 0.8167614 (115)\ttotal: 2.77s\tremaining: 4m 32s\n",
      "300:\tlearn: 0.8326234\ttest: 0.8139205\tbest: 0.8167614 (115)\ttotal: 4.03s\tremaining: 4m 23s\n",
      "Stopped by overfitting detector  (200 iterations wait)\n",
      "\n",
      "bestTest = 0.8167613636\n",
      "bestIteration = 115\n",
      "\n",
      "Shrink model to first 116 iterations.\n",
      "CB - ROC AUC Score = 0.8212900423049473\n",
      " Running 4 of KFold 9\n",
      "0:\tlearn: 0.8006745\ttest: 0.7855114\tbest: 0.7855114 (0)\ttotal: 17.2ms\tremaining: 5m 43s\n",
      "100:\tlearn: 0.8187788\ttest: 0.7926136\tbest: 0.8011364 (14)\ttotal: 1.43s\tremaining: 4m 40s\n",
      "200:\tlearn: 0.8242812\ttest: 0.7911932\tbest: 0.8011364 (14)\ttotal: 2.79s\tremaining: 4m 34s\n",
      "Stopped by overfitting detector  (200 iterations wait)\n",
      "\n",
      "bestTest = 0.8011363636\n",
      "bestIteration = 14\n",
      "\n",
      "Shrink model to first 15 iterations.\n",
      "CB - ROC AUC Score = 0.8261928650482524\n",
      " Running 5 of KFold 9\n",
      "0:\tlearn: 0.8010295\ttest: 0.7627841\tbest: 0.7627841 (0)\ttotal: 15.1ms\tremaining: 5m 1s\n",
      "100:\tlearn: 0.8226837\ttest: 0.7613636\tbest: 0.7713068 (9)\ttotal: 1.41s\tremaining: 4m 38s\n",
      "200:\tlearn: 0.8294285\ttest: 0.7684659\tbest: 0.7713068 (9)\ttotal: 2.77s\tremaining: 4m 32s\n",
      "Stopped by overfitting detector  (200 iterations wait)\n",
      "\n",
      "bestTest = 0.7713068182\n",
      "bestIteration = 9\n",
      "\n",
      "Shrink model to first 10 iterations.\n",
      "CB - ROC AUC Score = 0.7983946875743441\n",
      " Running 6 of KFold 9\n",
      "0:\tlearn: 0.8031594\ttest: 0.7897727\tbest: 0.7897727 (0)\ttotal: 15ms\tremaining: 5m\n",
      "100:\tlearn: 0.8207313\ttest: 0.8011364\tbest: 0.8053977 (23)\ttotal: 1.41s\tremaining: 4m 38s\n",
      "200:\tlearn: 0.8274760\ttest: 0.8039773\tbest: 0.8053977 (23)\ttotal: 2.76s\tremaining: 4m 32s\n",
      "Stopped by overfitting detector  (200 iterations wait)\n",
      "\n",
      "bestTest = 0.8053977273\n",
      "bestIteration = 23\n",
      "\n",
      "Shrink model to first 24 iterations.\n",
      "CB - ROC AUC Score = 0.8327196185314288\n",
      " Running 7 of KFold 9\n",
      "0:\tlearn: 0.7967696\ttest: 0.7954545\tbest: 0.7954545 (0)\ttotal: 18.9ms\tremaining: 6m 17s\n",
      "100:\tlearn: 0.8178914\ttest: 0.7954545\tbest: 0.7968750 (2)\ttotal: 1.47s\tremaining: 4m 49s\n",
      "200:\tlearn: 0.8262336\ttest: 0.7968750\tbest: 0.7982955 (196)\ttotal: 2.8s\tremaining: 4m 35s\n",
      "300:\tlearn: 0.8304934\ttest: 0.8011364\tbest: 0.8025568 (268)\ttotal: 4.07s\tremaining: 4m 26s\n",
      "400:\tlearn: 0.8351083\ttest: 0.7968750\tbest: 0.8025568 (268)\ttotal: 5.31s\tremaining: 4m 19s\n",
      "Stopped by overfitting detector  (200 iterations wait)\n",
      "\n",
      "bestTest = 0.8025568182\n",
      "bestIteration = 268\n",
      "\n",
      "Shrink model to first 269 iterations.\n",
      "CB - ROC AUC Score = 0.851994851994852\n",
      " Running 8 of KFold 9\n",
      "0:\tlearn: 0.7971246\ttest: 0.8224432\tbest: 0.8224432 (0)\ttotal: 15.2ms\tremaining: 5m 4s\n",
      "100:\tlearn: 0.8146965\ttest: 0.8281250\tbest: 0.8295455 (91)\ttotal: 1.43s\tremaining: 4m 42s\n",
      "200:\tlearn: 0.8209088\ttest: 0.8267045\tbest: 0.8295455 (91)\ttotal: 2.81s\tremaining: 4m 37s\n",
      "Stopped by overfitting detector  (200 iterations wait)\n",
      "\n",
      "bestTest = 0.8295454545\n",
      "bestIteration = 91\n",
      "\n",
      "Shrink model to first 92 iterations.\n",
      "CB - ROC AUC Score = 0.8691306513887158\n",
      " Running 9 of KFold 9\n",
      "0:\tlearn: 0.8012070\ttest: 0.7755682\tbest: 0.7755682 (0)\ttotal: 14ms\tremaining: 4m 39s\n",
      "100:\tlearn: 0.8205538\ttest: 0.7940341\tbest: 0.7968750 (6)\ttotal: 1.4s\tremaining: 4m 35s\n",
      "200:\tlearn: 0.8290735\ttest: 0.8039773\tbest: 0.8053977 (188)\ttotal: 2.73s\tremaining: 4m 28s\n",
      "300:\tlearn: 0.8317359\ttest: 0.8039773\tbest: 0.8068182 (246)\ttotal: 4.02s\tremaining: 4m 22s\n",
      "400:\tlearn: 0.8367057\ttest: 0.8011364\tbest: 0.8068182 (246)\ttotal: 5.31s\tremaining: 4m 19s\n",
      "Stopped by overfitting detector  (200 iterations wait)\n",
      "\n",
      "bestTest = 0.8068181818\n",
      "bestIteration = 246\n",
      "\n",
      "Shrink model to first 247 iterations.\n",
      "CB - ROC AUC Score = 0.820027400672562\n"
     ]
    }
   ],
   "source": [
    "SEED = 143\n",
    "kfold = StratifiedKFold(n_splits=N_SPLITS, shuffle=True, random_state=SEED)\n",
    "count = 0\n",
    "cb_best = 0\n",
    "feature_imp_cb = 0\n",
    "cb_score = 0\n",
    "roc_cb_scores = np.zeros((N_SPLITS))\n",
    "cb_pred = {}\n",
    "\n",
    "for train_idx,test_idx in kfold.split(train_ds,labels):\n",
    "    print(' Running {} of KFold {}'.format(count+1,kfold.n_splits))\n",
    "    xtr,xvl = train_ds.loc[train_idx],train_ds.loc[test_idx]\n",
    "    ytr,yvl = labels.loc[train_idx],labels.loc[test_idx]\n",
    "    \n",
    "    cb_model = CatBoostClassifier(\n",
    "                        verbose=100,\n",
    "                        eval_metric=\"Accuracy\",\n",
    "                        loss_function=\"Logloss\",\n",
    "                        random_state=2021,\n",
    "                        num_boost_round=20000,\n",
    "                        od_type=\"Iter\",\n",
    "                        od_wait=200,\n",
    "                        cat_features=cat_ids,\n",
    "                        bagging_temperature=1.288692494969795,\n",
    "                        grow_policy=\"Depthwise\",\n",
    "                        l2_leaf_reg=9.847870133539244,\n",
    "                        learning_rate=0.01877982653902465,\n",
    "                        max_depth=8,\n",
    "                        min_data_in_leaf=1,\n",
    "                        penalties_coefficient=2.1176668909602734,\n",
    "            )\n",
    "    cb_model.fit(xtr,ytr,eval_set=(xvl,yvl))\n",
    "    cb_best += cb_model.predict_proba(test_ds)\n",
    "    cb_pred[count] = cb_model.predict_proba(test_ds)\n",
    "    \n",
    "    roc_cb_scores[count] = roc_auc_score(yvl,cb_model.predict_proba(xvl)[:,-1], average=\"macro\")\n",
    "    cb_score += roc_auc_score(yvl,cb_model.predict_proba(xvl)[:,-1], average=\"macro\")\n",
    "    \n",
    "    print(\"CB - ROC AUC Score = {}\".format(roc_auc_score(yvl,cb_model.predict_proba(xvl)[:,-1], average=\"macro\")))\n",
    "    feature_imp_cb += cb_model.feature_importances_\n",
    "    \n",
    "    roc_scores[num*N_SPLITS + count] = roc_auc_score(yvl,cb_model.predict_proba(xvl)[:,-1], average=\"macro\")\n",
    "    test_pred[num*N_SPLITS + count] = cb_model.predict_proba(test_ds)\n",
    "    count+=1\n",
    "\n",
    "cb_score = cb_score/N_SPLITS\n",
    "cb_best = cb_best/N_SPLITS\n",
    "feature_imp_cb = list(feature_imp_cb/N_SPLITS)\n",
    "num +=1"
   ]
  },
  {
   "cell_type": "code",
   "execution_count": 8,
   "id": "nervous-specialist",
   "metadata": {
    "execution": {
     "iopub.execute_input": "2021-05-11T00:42:45.431176Z",
     "iopub.status.busy": "2021-05-11T00:42:45.430652Z",
     "iopub.status.idle": "2021-05-11T00:42:45.661434Z",
     "shell.execute_reply": "2021-05-11T00:42:45.661883Z"
    },
    "papermill": {
     "duration": 0.290217,
     "end_time": "2021-05-11T00:42:45.662047",
     "exception": false,
     "start_time": "2021-05-11T00:42:45.371830",
     "status": "completed"
    },
    "tags": []
   },
   "outputs": [
    {
     "data": {
      "image/png": "[encoded data removed]",
      "text/plain": [
       "<Figure size 1080x432 with 1 Axes>"
      ]
     },
     "metadata": {
      "needs_background": "light"
     },
     "output_type": "display_data"
    }
   ],
   "source": [
    "#Feature Importances\n",
    "\n",
    "plt.figure(figsize = (15,6))\n",
    "plt.bar(tot_features,feature_imp_cb)\n",
    "plt.title(\"Feature Importance with CatBoost\")\n",
    "plt.xlabel(\"Feature\")\n",
    "plt.xticks(rotation = 45)\n",
    "plt.ylabel(\"Importance\")\n",
    "plt.show()"
   ]
  },
  {
   "cell_type": "markdown",
   "id": "moral-banking",
   "metadata": {
    "papermill": {
     "duration": 0.027454,
     "end_time": "2021-05-11T00:42:45.716781",
     "exception": false,
     "start_time": "2021-05-11T00:42:45.689327",
     "status": "completed"
    },
    "tags": []
   },
   "source": [
    "# LightGBM"
   ]
  },
  {
   "cell_type": "code",
   "execution_count": 9,
   "id": "massive-mechanics",
   "metadata": {
    "_kg_hide-output": true,
    "execution": {
     "iopub.execute_input": "2021-05-11T00:42:45.790138Z",
     "iopub.status.busy": "2021-05-11T00:42:45.783821Z",
     "iopub.status.idle": "2021-05-11T00:43:02.284050Z",
     "shell.execute_reply": "2021-05-11T00:43:02.284467Z"
    },
    "papermill": {
     "duration": 16.539798,
     "end_time": "2021-05-11T00:43:02.284659",
     "exception": false,
     "start_time": "2021-05-11T00:42:45.744861",
     "status": "completed"
    },
    "scrolled": true,
    "tags": []
   },
   "outputs": [
    {
     "name": "stdout",
     "output_type": "stream",
     "text": [
      " Running 1 of KFold 9\n",
      "[500]\tvalid_0's auc: 0.810945\n",
      "[1000]\tvalid_0's auc: 0.803729\n",
      "LGB - ROC AUC Score = 0.803728862552392\n",
      " Running 2 of KFold 9\n",
      "[500]\tvalid_0's auc: 0.771819\n",
      "[1000]\tvalid_0's auc: 0.767586\n",
      "LGB - ROC AUC Score = 0.7675861499390911\n",
      " Running 3 of KFold 9\n",
      "[500]\tvalid_0's auc: 0.803256\n",
      "[1000]\tvalid_0's auc: 0.792592\n",
      "LGB - ROC AUC Score = 0.7925919796439765\n",
      " Running 4 of KFold 9\n",
      "[500]\tvalid_0's auc: 0.809648\n",
      "[1000]\tvalid_0's auc: 0.798881\n",
      "LGB - ROC AUC Score = 0.7988808324455157\n",
      " Running 5 of KFold 9\n",
      "[500]\tvalid_0's auc: 0.778194\n",
      "[1000]\tvalid_0's auc: 0.773725\n",
      "LGB - ROC AUC Score = 0.773725421239359\n",
      " Running 6 of KFold 9\n",
      "[500]\tvalid_0's auc: 0.806018\n",
      "[1000]\tvalid_0's auc: 0.79585\n",
      "LGB - ROC AUC Score = 0.795850184631616\n",
      " Running 7 of KFold 9\n",
      "[500]\tvalid_0's auc: 0.793499\n",
      "[1000]\tvalid_0's auc: 0.78148\n",
      "LGB - ROC AUC Score = 0.781479636318346\n",
      " Running 8 of KFold 9\n",
      "[500]\tvalid_0's auc: 0.834735\n",
      "[1000]\tvalid_0's auc: 0.825964\n",
      "LGB - ROC AUC Score = 0.8259642130609871\n",
      " Running 9 of KFold 9\n",
      "[500]\tvalid_0's auc: 0.797598\n",
      "[1000]\tvalid_0's auc: 0.784074\n",
      "LGB - ROC AUC Score = 0.7840743969776228\n"
     ]
    }
   ],
   "source": [
    "count = 0\n",
    "lgb_best = 0\n",
    "feature_imp_lgb = 0\n",
    "lgb_score = 0\n",
    "roc_lgb_scores = np.zeros((N_SPLITS))\n",
    "lgb_pred = {}\n",
    "\n",
    "for train_idx,test_idx in kfold.split(train_ds,labels):\n",
    "    print(' Running {} of KFold {}'.format(count+1,kfold.n_splits))\n",
    "    xtr,xvl = train_ds.loc[train_idx],train_ds.loc[test_idx]\n",
    "    ytr,yvl = labels.loc[train_idx],labels.loc[test_idx]\n",
    "    \n",
    "    lgb_model = LGBMClassifier(\n",
    "               n_estimators = 1000,\n",
    "               cat_feature=cat_ids,\n",
    "               metric = \"auc\"\n",
    "    )\n",
    "    \n",
    "    lgb_model.fit(xtr,ytr,eval_set=[(xvl,yvl)], verbose = 500)\n",
    "    lgb_best += lgb_model.predict_proba(test_ds)\n",
    "    lgb_pred[count] = lgb_model.predict_proba(test_ds)\n",
    "    \n",
    "    roc_lgb_scores[count] = roc_auc_score(yvl,lgb_model.predict_proba(xvl)[:,-1], average=\"macro\")\n",
    "    lgb_score += roc_auc_score(yvl,lgb_model.predict_proba(xvl)[:,-1], average=\"macro\")\n",
    "    print(\"LGB - ROC AUC Score = {}\".format(roc_auc_score(yvl,lgb_model.predict_proba(xvl)[:,-1], average=\"macro\")))\n",
    "    feature_imp_lgb += lgb_model.feature_importances_\n",
    "    \n",
    "    roc_scores[num*N_SPLITS + count] = roc_auc_score(yvl,lgb_model.predict_proba(xvl)[:,-1], average=\"macro\")\n",
    "    test_pred[num*N_SPLITS + count] = lgb_model.predict_proba(test_ds)\n",
    "    count+=1\n",
    "\n",
    "lgb_score = lgb_score/N_SPLITS\n",
    "lgb_best = lgb_best/N_SPLITS\n",
    "feature_imp_lgb = list(feature_imp_lgb/N_SPLITS)\n",
    "num+=1"
   ]
  },
  {
   "cell_type": "code",
   "execution_count": 10,
   "id": "protective-depth",
   "metadata": {
    "execution": {
     "iopub.execute_input": "2021-05-11T00:43:02.391252Z",
     "iopub.status.busy": "2021-05-11T00:43:02.390428Z",
     "iopub.status.idle": "2021-05-11T00:43:02.550704Z",
     "shell.execute_reply": "2021-05-11T00:43:02.549972Z"
    },
    "papermill": {
     "duration": 0.23118,
     "end_time": "2021-05-11T00:43:02.550860",
     "exception": false,
     "start_time": "2021-05-11T00:43:02.319680",
     "status": "completed"
    },
    "tags": []
   },
   "outputs": [
    {
     "data": {
      "image/png": "[encoded data removed]",
      "text/plain": [
       "<Figure size 1080x432 with 1 Axes>"
      ]
     },
     "metadata": {
      "needs_background": "light"
     },
     "output_type": "display_data"
    }
   ],
   "source": [
    "#Feature Importances\n",
    "\n",
    "plt.figure(figsize = (15,6))\n",
    "plt.bar(tot_features,feature_imp_lgb)\n",
    "plt.title(\"Feature Importance with CatBoost\")\n",
    "plt.xlabel(\"Feature\")\n",
    "plt.xticks(rotation = 45)\n",
    "plt.ylabel(\"Importance\")\n",
    "plt.show()"
   ]
  },
  {
   "cell_type": "markdown",
   "id": "stopped-recall",
   "metadata": {
    "papermill": {
     "duration": 0.05493,
     "end_time": "2021-05-11T00:43:02.660045",
     "exception": false,
     "start_time": "2021-05-11T00:43:02.605115",
     "status": "completed"
    },
    "tags": []
   },
   "source": [
    "# XGBoost"
   ]
  },
  {
   "cell_type": "code",
   "execution_count": 11,
   "id": "atlantic-genealogy",
   "metadata": {
    "_kg_hide-output": true,
    "execution": {
     "iopub.execute_input": "2021-05-11T00:43:02.780178Z",
     "iopub.status.busy": "2021-05-11T00:43:02.779084Z",
     "iopub.status.idle": "2021-05-11T00:43:08.593451Z",
     "shell.execute_reply": "2021-05-11T00:43:08.592929Z"
    },
    "papermill": {
     "duration": 5.879296,
     "end_time": "2021-05-11T00:43:08.593603",
     "exception": false,
     "start_time": "2021-05-11T00:43:02.714307",
     "status": "completed"
    },
    "scrolled": true,
    "tags": []
   },
   "outputs": [
    {
     "name": "stdout",
     "output_type": "stream",
     "text": [
      " Running 1 of KFold 9\n",
      "[0]\tvalidation_0-auc:0.80704\n",
      "[99]\tvalidation_0-auc:0.82061\n",
      "XGB - ROC AUC Score = 0.8206078500196147\n",
      " Running 2 of KFold 9\n",
      "[0]\tvalidation_0-auc:0.80758\n"
     ]
    },
    {
     "name": "stderr",
     "output_type": "stream",
     "text": [
      "/opt/conda/lib/python3.7/site-packages/xgboost/data.py:114: UserWarning: Use subset (sliced data) of np.ndarray is not recommended because it will generate extra copies and increase memory consumption\n",
      "  \"because it will generate extra copies and increase \" +\n",
      "/opt/conda/lib/python3.7/site-packages/xgboost/data.py:114: UserWarning: Use subset (sliced data) of np.ndarray is not recommended because it will generate extra copies and increase memory consumption\n",
      "  \"because it will generate extra copies and increase \" +\n",
      "/opt/conda/lib/python3.7/site-packages/xgboost/data.py:114: UserWarning: Use subset (sliced data) of np.ndarray is not recommended because it will generate extra copies and increase memory consumption\n",
      "  \"because it will generate extra copies and increase \" +\n",
      "/opt/conda/lib/python3.7/site-packages/xgboost/data.py:114: UserWarning: Use subset (sliced data) of np.ndarray is not recommended because it will generate extra copies and increase memory consumption\n",
      "  \"because it will generate extra copies and increase \" +\n",
      "/opt/conda/lib/python3.7/site-packages/xgboost/data.py:114: UserWarning: Use subset (sliced data) of np.ndarray is not recommended because it will generate extra copies and increase memory consumption\n",
      "  \"because it will generate extra copies and increase \" +\n"
     ]
    },
    {
     "name": "stdout",
     "output_type": "stream",
     "text": [
      "[99]\tvalidation_0-auc:0.79244\n",
      "XGB - ROC AUC Score = 0.7924452336217043\n",
      " Running 3 of KFold 9\n",
      "[0]\tvalidation_0-auc:0.79873\n"
     ]
    },
    {
     "name": "stderr",
     "output_type": "stream",
     "text": [
      "/opt/conda/lib/python3.7/site-packages/xgboost/data.py:114: UserWarning: Use subset (sliced data) of np.ndarray is not recommended because it will generate extra copies and increase memory consumption\n",
      "  \"because it will generate extra copies and increase \" +\n",
      "/opt/conda/lib/python3.7/site-packages/xgboost/data.py:114: UserWarning: Use subset (sliced data) of np.ndarray is not recommended because it will generate extra copies and increase memory consumption\n",
      "  \"because it will generate extra copies and increase \" +\n",
      "/opt/conda/lib/python3.7/site-packages/xgboost/data.py:114: UserWarning: Use subset (sliced data) of np.ndarray is not recommended because it will generate extra copies and increase memory consumption\n",
      "  \"because it will generate extra copies and increase \" +\n",
      "/opt/conda/lib/python3.7/site-packages/xgboost/data.py:114: UserWarning: Use subset (sliced data) of np.ndarray is not recommended because it will generate extra copies and increase memory consumption\n",
      "  \"because it will generate extra copies and increase \" +\n"
     ]
    },
    {
     "name": "stdout",
     "output_type": "stream",
     "text": [
      "[99]\tvalidation_0-auc:0.80542\n",
      "XGB - ROC AUC Score = 0.8054179294365892\n",
      " Running 4 of KFold 9\n",
      "[0]\tvalidation_0-auc:0.81903\n"
     ]
    },
    {
     "name": "stderr",
     "output_type": "stream",
     "text": [
      "/opt/conda/lib/python3.7/site-packages/xgboost/data.py:114: UserWarning: Use subset (sliced data) of np.ndarray is not recommended because it will generate extra copies and increase memory consumption\n",
      "  \"because it will generate extra copies and increase \" +\n",
      "/opt/conda/lib/python3.7/site-packages/xgboost/data.py:114: UserWarning: Use subset (sliced data) of np.ndarray is not recommended because it will generate extra copies and increase memory consumption\n",
      "  \"because it will generate extra copies and increase \" +\n",
      "/opt/conda/lib/python3.7/site-packages/xgboost/data.py:114: UserWarning: Use subset (sliced data) of np.ndarray is not recommended because it will generate extra copies and increase memory consumption\n",
      "  \"because it will generate extra copies and increase \" +\n",
      "/opt/conda/lib/python3.7/site-packages/xgboost/data.py:114: UserWarning: Use subset (sliced data) of np.ndarray is not recommended because it will generate extra copies and increase memory consumption\n",
      "  \"because it will generate extra copies and increase \" +\n"
     ]
    },
    {
     "name": "stdout",
     "output_type": "stream",
     "text": [
      "[99]\tvalidation_0-auc:0.82369\n",
      "XGB - ROC AUC Score = 0.8236949078910621\n",
      " Running 5 of KFold 9\n",
      "[0]\tvalidation_0-auc:0.79435\n"
     ]
    },
    {
     "name": "stderr",
     "output_type": "stream",
     "text": [
      "/opt/conda/lib/python3.7/site-packages/xgboost/data.py:114: UserWarning: Use subset (sliced data) of np.ndarray is not recommended because it will generate extra copies and increase memory consumption\n",
      "  \"because it will generate extra copies and increase \" +\n",
      "/opt/conda/lib/python3.7/site-packages/xgboost/data.py:114: UserWarning: Use subset (sliced data) of np.ndarray is not recommended because it will generate extra copies and increase memory consumption\n",
      "  \"because it will generate extra copies and increase \" +\n",
      "/opt/conda/lib/python3.7/site-packages/xgboost/data.py:114: UserWarning: Use subset (sliced data) of np.ndarray is not recommended because it will generate extra copies and increase memory consumption\n",
      "  \"because it will generate extra copies and increase \" +\n",
      "/opt/conda/lib/python3.7/site-packages/xgboost/data.py:114: UserWarning: Use subset (sliced data) of np.ndarray is not recommended because it will generate extra copies and increase memory consumption\n",
      "  \"because it will generate extra copies and increase \" +\n"
     ]
    },
    {
     "name": "stdout",
     "output_type": "stream",
     "text": [
      "[99]\tvalidation_0-auc:0.79376\n",
      "XGB - ROC AUC Score = 0.7937607960363677\n",
      " Running 6 of KFold 9\n",
      "[0]\tvalidation_0-auc:0.81153\n"
     ]
    },
    {
     "name": "stderr",
     "output_type": "stream",
     "text": [
      "/opt/conda/lib/python3.7/site-packages/xgboost/data.py:114: UserWarning: Use subset (sliced data) of np.ndarray is not recommended because it will generate extra copies and increase memory consumption\n",
      "  \"because it will generate extra copies and increase \" +\n",
      "/opt/conda/lib/python3.7/site-packages/xgboost/data.py:114: UserWarning: Use subset (sliced data) of np.ndarray is not recommended because it will generate extra copies and increase memory consumption\n",
      "  \"because it will generate extra copies and increase \" +\n",
      "/opt/conda/lib/python3.7/site-packages/xgboost/data.py:114: UserWarning: Use subset (sliced data) of np.ndarray is not recommended because it will generate extra copies and increase memory consumption\n",
      "  \"because it will generate extra copies and increase \" +\n",
      "/opt/conda/lib/python3.7/site-packages/xgboost/data.py:114: UserWarning: Use subset (sliced data) of np.ndarray is not recommended because it will generate extra copies and increase memory consumption\n",
      "  \"because it will generate extra copies and increase \" +\n"
     ]
    },
    {
     "name": "stdout",
     "output_type": "stream",
     "text": [
      "[99]\tvalidation_0-auc:0.81525\n",
      "XGB - ROC AUC Score = 0.8152546054468912\n",
      " Running 7 of KFold 9\n",
      "[0]\tvalidation_0-auc:0.82964\n"
     ]
    },
    {
     "name": "stderr",
     "output_type": "stream",
     "text": [
      "/opt/conda/lib/python3.7/site-packages/xgboost/data.py:114: UserWarning: Use subset (sliced data) of np.ndarray is not recommended because it will generate extra copies and increase memory consumption\n",
      "  \"because it will generate extra copies and increase \" +\n",
      "/opt/conda/lib/python3.7/site-packages/xgboost/data.py:114: UserWarning: Use subset (sliced data) of np.ndarray is not recommended because it will generate extra copies and increase memory consumption\n",
      "  \"because it will generate extra copies and increase \" +\n",
      "/opt/conda/lib/python3.7/site-packages/xgboost/data.py:114: UserWarning: Use subset (sliced data) of np.ndarray is not recommended because it will generate extra copies and increase memory consumption\n",
      "  \"because it will generate extra copies and increase \" +\n",
      "/opt/conda/lib/python3.7/site-packages/xgboost/data.py:114: UserWarning: Use subset (sliced data) of np.ndarray is not recommended because it will generate extra copies and increase memory consumption\n",
      "  \"because it will generate extra copies and increase \" +\n"
     ]
    },
    {
     "name": "stdout",
     "output_type": "stream",
     "text": [
      "[99]\tvalidation_0-auc:0.80904\n",
      "XGB - ROC AUC Score = 0.8090411840411841\n",
      " Running 8 of KFold 9\n",
      "[0]\tvalidation_0-auc:0.83931\n"
     ]
    },
    {
     "name": "stderr",
     "output_type": "stream",
     "text": [
      "/opt/conda/lib/python3.7/site-packages/xgboost/data.py:114: UserWarning: Use subset (sliced data) of np.ndarray is not recommended because it will generate extra copies and increase memory consumption\n",
      "  \"because it will generate extra copies and increase \" +\n",
      "/opt/conda/lib/python3.7/site-packages/xgboost/data.py:114: UserWarning: Use subset (sliced data) of np.ndarray is not recommended because it will generate extra copies and increase memory consumption\n",
      "  \"because it will generate extra copies and increase \" +\n",
      "/opt/conda/lib/python3.7/site-packages/xgboost/data.py:114: UserWarning: Use subset (sliced data) of np.ndarray is not recommended because it will generate extra copies and increase memory consumption\n",
      "  \"because it will generate extra copies and increase \" +\n",
      "/opt/conda/lib/python3.7/site-packages/xgboost/data.py:114: UserWarning: Use subset (sliced data) of np.ndarray is not recommended because it will generate extra copies and increase memory consumption\n",
      "  \"because it will generate extra copies and increase \" +\n"
     ]
    },
    {
     "name": "stdout",
     "output_type": "stream",
     "text": [
      "[99]\tvalidation_0-auc:0.84713\n",
      "XGB - ROC AUC Score = 0.8471270809980487\n",
      " Running 9 of KFold 9\n",
      "[0]\tvalidation_0-auc:0.79341\n"
     ]
    },
    {
     "name": "stderr",
     "output_type": "stream",
     "text": [
      "/opt/conda/lib/python3.7/site-packages/xgboost/data.py:114: UserWarning: Use subset (sliced data) of np.ndarray is not recommended because it will generate extra copies and increase memory consumption\n",
      "  \"because it will generate extra copies and increase \" +\n",
      "/opt/conda/lib/python3.7/site-packages/xgboost/data.py:114: UserWarning: Use subset (sliced data) of np.ndarray is not recommended because it will generate extra copies and increase memory consumption\n",
      "  \"because it will generate extra copies and increase \" +\n",
      "/opt/conda/lib/python3.7/site-packages/xgboost/data.py:114: UserWarning: Use subset (sliced data) of np.ndarray is not recommended because it will generate extra copies and increase memory consumption\n",
      "  \"because it will generate extra copies and increase \" +\n",
      "/opt/conda/lib/python3.7/site-packages/xgboost/data.py:114: UserWarning: Use subset (sliced data) of np.ndarray is not recommended because it will generate extra copies and increase memory consumption\n",
      "  \"because it will generate extra copies and increase \" +\n"
     ]
    },
    {
     "name": "stdout",
     "output_type": "stream",
     "text": [
      "[99]\tvalidation_0-auc:0.79381\n",
      "XGB - ROC AUC Score = 0.7938099389712294\n"
     ]
    },
    {
     "name": "stderr",
     "output_type": "stream",
     "text": [
      "/opt/conda/lib/python3.7/site-packages/xgboost/data.py:114: UserWarning: Use subset (sliced data) of np.ndarray is not recommended because it will generate extra copies and increase memory consumption\n",
      "  \"because it will generate extra copies and increase \" +\n",
      "/opt/conda/lib/python3.7/site-packages/xgboost/data.py:114: UserWarning: Use subset (sliced data) of np.ndarray is not recommended because it will generate extra copies and increase memory consumption\n",
      "  \"because it will generate extra copies and increase \" +\n",
      "/opt/conda/lib/python3.7/site-packages/xgboost/data.py:114: UserWarning: Use subset (sliced data) of np.ndarray is not recommended because it will generate extra copies and increase memory consumption\n",
      "  \"because it will generate extra copies and increase \" +\n",
      "/opt/conda/lib/python3.7/site-packages/xgboost/data.py:114: UserWarning: Use subset (sliced data) of np.ndarray is not recommended because it will generate extra copies and increase memory consumption\n",
      "  \"because it will generate extra copies and increase \" +\n"
     ]
    }
   ],
   "source": [
    "count = 0\n",
    "xgb_best = 0\n",
    "feature_imp_xgb = 0\n",
    "xgb_score = 0\n",
    "roc_xgb_scores = np.zeros((N_SPLITS))\n",
    "xgb_pred = {}\n",
    "\n",
    "for train_idx,test_idx in kfold.split(train_ds,labels):\n",
    "    print(' Running {} of KFold {}'.format(count+1,kfold.n_splits))\n",
    "    xtr,xvl = train_ds.loc[train_idx],train_ds.loc[test_idx]\n",
    "    ytr,yvl = labels.loc[train_idx],labels.loc[test_idx]\n",
    "    \n",
    "    xgb_model = XGBClassifier(\n",
    "               use_label_encoder = False,\n",
    "               eval_metric = \"auc\"\n",
    "    )\n",
    "    xgb_model.fit(xtr,ytr,eval_set=[(xvl,yvl)], verbose = 500)\n",
    "    xgb_best += xgb_model.predict_proba(test_ds)\n",
    "    xgb_pred[count] = xgb_model.predict_proba(test_ds)\n",
    "    \n",
    "    roc_xgb_scores[count] = roc_auc_score(yvl,xgb_model.predict_proba(xvl)[:,-1], average=\"macro\")\n",
    "    xgb_score += roc_auc_score(yvl,xgb_model.predict_proba(xvl)[:,-1], average=\"macro\")\n",
    "    print(\"XGB - ROC AUC Score = {}\".format(roc_auc_score(yvl,xgb_model.predict_proba(xvl)[:,-1], average=\"macro\")))\n",
    "    feature_imp_xgb += np.array(list(xgb_model.get_booster().get_score(importance_type='weight').values()))\n",
    "    \n",
    "    roc_scores[num*N_SPLITS + count] = roc_auc_score(yvl,xgb_model.predict_proba(xvl)[:,-1], average=\"macro\")\n",
    "    test_pred[num*N_SPLITS + count] = xgb_model.predict_proba(test_ds)\n",
    "    count+=1\n",
    "    \n",
    "xgb_score = xgb_score/N_SPLITS\n",
    "xgb_best = xgb_best/N_SPLITS\n",
    "feature_imp_xgb = list(feature_imp_xgb/N_SPLITS)\n",
    "num+=1"
   ]
  },
  {
   "cell_type": "code",
   "execution_count": 12,
   "id": "optional-satin",
   "metadata": {
    "execution": {
     "iopub.execute_input": "2021-05-11T00:43:08.690962Z",
     "iopub.status.busy": "2021-05-11T00:43:08.690145Z",
     "iopub.status.idle": "2021-05-11T00:43:08.957337Z",
     "shell.execute_reply": "2021-05-11T00:43:08.957763Z"
    },
    "papermill": {
     "duration": 0.318964,
     "end_time": "2021-05-11T00:43:08.957921",
     "exception": false,
     "start_time": "2021-05-11T00:43:08.638957",
     "status": "completed"
    },
    "tags": []
   },
   "outputs": [
    {
     "data": {
      "image/png": "[encoded data removed]",
      "text/plain": [
       "<Figure size 1080x432 with 1 Axes>"
      ]
     },
     "metadata": {
      "needs_background": "light"
     },
     "output_type": "display_data"
    }
   ],
   "source": [
    "#Feature Importances\n",
    "\n",
    "features = list(xgb_model.get_booster().get_score(importance_type='weight').keys())\n",
    "plt.figure(figsize = (15,6))\n",
    "plt.bar(features,feature_imp_xgb)\n",
    "plt.title(\"Feature Importance with CatBoost\")\n",
    "plt.xlabel(\"Feature\")\n",
    "plt.xticks(rotation = 45)\n",
    "plt.ylabel(\"Importance\")\n",
    "plt.show()"
   ]
  },
  {
   "cell_type": "markdown",
   "id": "black-graduation",
   "metadata": {
    "papermill": {
     "duration": 0.043241,
     "end_time": "2021-05-11T00:43:09.043829",
     "exception": false,
     "start_time": "2021-05-11T00:43:09.000588",
     "status": "completed"
    },
    "tags": []
   },
   "source": [
    "# Scikit-Learn"
   ]
  },
  {
   "cell_type": "code",
   "execution_count": 13,
   "id": "concerned-portugal",
   "metadata": {
    "execution": {
     "iopub.execute_input": "2021-05-11T00:43:09.146517Z",
     "iopub.status.busy": "2021-05-11T00:43:09.140388Z",
     "iopub.status.idle": "2021-05-11T00:43:29.828164Z",
     "shell.execute_reply": "2021-05-11T00:43:29.828814Z"
    },
    "papermill": {
     "duration": 20.741849,
     "end_time": "2021-05-11T00:43:29.829016",
     "exception": false,
     "start_time": "2021-05-11T00:43:09.087167",
     "status": "completed"
    },
    "tags": []
   },
   "outputs": [
    {
     "name": "stdout",
     "output_type": "stream",
     "text": [
      " Running 1 of KFold 9\n",
      "HGB - ROC AUC Score = 0.8203600850659674\n",
      " Running 2 of KFold 9\n",
      "HGB - ROC AUC Score = 0.7973592385357091\n",
      " Running 3 of KFold 9\n",
      "HGB - ROC AUC Score = 0.8015494574830109\n",
      " Running 4 of KFold 9\n",
      "HGB - ROC AUC Score = 0.8101759430693326\n",
      " Running 5 of KFold 9\n",
      "HGB - ROC AUC Score = 0.7729393146391668\n",
      " Running 6 of KFold 9\n",
      "HGB - ROC AUC Score = 0.810734492495785\n",
      " Running 7 of KFold 9\n",
      "HGB - ROC AUC Score = 0.7909349441607505\n",
      " Running 8 of KFold 9\n",
      "HGB - ROC AUC Score = 0.8435463112882469\n",
      " Running 9 of KFold 9\n",
      "HGB - ROC AUC Score = 0.7962282559056753\n"
     ]
    }
   ],
   "source": [
    "count = 0\n",
    "hgb_best = 0\n",
    "hgb_score = 0\n",
    "roc_hgb_scores = np.zeros((N_SPLITS))\n",
    "hgb_pred = {}\n",
    "\n",
    "for train_idx,test_idx in kfold.split(train_ds,labels):\n",
    "    print(' Running {} of KFold {}'.format(count+1,kfold.n_splits))\n",
    "    xtr,xvl = train_ds.loc[train_idx],train_ds.loc[test_idx]\n",
    "    ytr,yvl = labels.loc[train_idx],labels.loc[test_idx]\n",
    "    \n",
    "    hgb_model = HistGradientBoostingClassifier(\n",
    "                    l2_regularization=1.766059063693552,\n",
    "                    learning_rate=0.10675193678150449,\n",
    "                    max_bins=128,\n",
    "                    max_depth=31,\n",
    "                    max_leaf_nodes=185,\n",
    "                    random_state=2021,\n",
    "                    verbose = 0\n",
    "            )\n",
    "    hgb_model.fit(xtr,ytr)\n",
    "    \n",
    "    roc_hgb_scores[count] = roc_auc_score(yvl,hgb_model.predict_proba(xvl)[:,-1], average=\"macro\")\n",
    "    hgb_score += roc_auc_score(yvl,hgb_model.predict_proba(xvl)[:,-1], average=\"macro\")\n",
    "    print(\"HGB - ROC AUC Score = {}\".format(roc_auc_score(yvl,hgb_model.predict_proba(xvl)[:,-1], average=\"macro\")))\n",
    "    hgb_best += hgb_model.predict_proba(test_ds)\n",
    "    hgb_pred[count] = hgb_model.predict_proba(test_ds)\n",
    "    \n",
    "    roc_scores[num*N_SPLITS + count] = roc_auc_score(yvl,hgb_model.predict_proba(xvl)[:,-1], average=\"macro\")\n",
    "    test_pred[num*N_SPLITS + count] = hgb_model.predict_proba(test_ds)\n",
    "    count+=1\n",
    "\n",
    "hgb_score = hgb_score/N_SPLITS\n",
    "hgb_best = hgb_best/N_SPLITS"
   ]
  },
  {
   "cell_type": "code",
   "execution_count": 14,
   "id": "racial-antigua",
   "metadata": {
    "execution": {
     "iopub.execute_input": "2021-05-11T00:43:29.975890Z",
     "iopub.status.busy": "2021-05-11T00:43:29.975346Z",
     "iopub.status.idle": "2021-05-11T00:43:29.981209Z",
     "shell.execute_reply": "2021-05-11T00:43:29.980468Z"
    },
    "papermill": {
     "duration": 0.081152,
     "end_time": "2021-05-11T00:43:29.981358",
     "exception": false,
     "start_time": "2021-05-11T00:43:29.900206",
     "status": "completed"
    },
    "tags": []
   },
   "outputs": [
    {
     "name": "stdout",
     "output_type": "stream",
     "text": [
      "Final XGB score :  0.8112399473847435\n",
      "Final LGB score :  0.791542408534323\n",
      "Final CB score :  0.8293764523307317\n",
      "Final HGB score :  0.8048697825159604\n"
     ]
    }
   ],
   "source": [
    "print(\"Final XGB score : \",xgb_score)\n",
    "print(\"Final LGB score : \",lgb_score)\n",
    "print(\"Final CB score : \",cb_score)\n",
    "print(\"Final HGB score : \",hgb_score)"
   ]
  },
  {
   "cell_type": "markdown",
   "id": "alpha-williams",
   "metadata": {
    "papermill": {
     "duration": 0.072891,
     "end_time": "2021-05-11T00:43:30.127495",
     "exception": false,
     "start_time": "2021-05-11T00:43:30.054604",
     "status": "completed"
    },
    "tags": []
   },
   "source": [
    "# Predictions"
   ]
  },
  {
   "cell_type": "code",
   "execution_count": 15,
   "id": "exact-noise",
   "metadata": {
    "execution": {
     "iopub.execute_input": "2021-05-11T00:43:30.284088Z",
     "iopub.status.busy": "2021-05-11T00:43:30.283184Z",
     "iopub.status.idle": "2021-05-11T00:43:30.309603Z",
     "shell.execute_reply": "2021-05-11T00:43:30.310221Z"
    },
    "papermill": {
     "duration": 0.110723,
     "end_time": "2021-05-11T00:43:30.310411",
     "exception": false,
     "start_time": "2021-05-11T00:43:30.199688",
     "status": "completed"
    },
    "tags": []
   },
   "outputs": [
    {
     "name": "stdout",
     "output_type": "stream",
     "text": [
      "Considering model with ROC:  0.8327196185314288\n",
      "Considering model with ROC:  0.8435463112882469\n",
      "Considering model with ROC:  0.8471270809980487\n",
      "Considering model with ROC:  0.851994851994852\n",
      "Considering model with ROC:  0.8691306513887158\n",
      "No     559\n",
      "Yes    146\n",
      "Name: CustomerAttrition, dtype: int64\n"
     ]
    },
    {
     "data": {
      "text/html": [
       "<div>\n",
       "<style scoped>\n",
       "    .dataframe tbody tr th:only-of-type {\n",
       "        vertical-align: middle;\n",
       "    }\n",
       "\n",
       "    .dataframe tbody tr th {\n",
       "        vertical-align: top;\n",
       "    }\n",
       "\n",
       "    .dataframe thead th {\n",
       "        text-align: right;\n",
       "    }\n",
       "</style>\n",
       "<table border=\"1\" class=\"dataframe\">\n",
       "  <thead>\n",
       "    <tr style=\"text-align: right;\">\n",
       "      <th></th>\n",
       "      <th>ID</th>\n",
       "      <th>CustomerAttrition</th>\n",
       "    </tr>\n",
       "  </thead>\n",
       "  <tbody>\n",
       "    <tr>\n",
       "      <th>0</th>\n",
       "      <td>WMORTPCG3HTIPEFSGUFY</td>\n",
       "      <td>No</td>\n",
       "    </tr>\n",
       "    <tr>\n",
       "      <th>1</th>\n",
       "      <td>GBLPEA16C3KGBO57KEFO</td>\n",
       "      <td>No</td>\n",
       "    </tr>\n",
       "    <tr>\n",
       "      <th>2</th>\n",
       "      <td>IDCQS0CO5P29AMKY3LO1</td>\n",
       "      <td>No</td>\n",
       "    </tr>\n",
       "    <tr>\n",
       "      <th>3</th>\n",
       "      <td>1IY29SDITYU6IFZ4KJB0</td>\n",
       "      <td>No</td>\n",
       "    </tr>\n",
       "    <tr>\n",
       "      <th>4</th>\n",
       "      <td>T5XMW5B0YPCONH30WJD2</td>\n",
       "      <td>No</td>\n",
       "    </tr>\n",
       "  </tbody>\n",
       "</table>\n",
       "</div>"
      ],
      "text/plain": [
       "                     ID CustomerAttrition\n",
       "0  WMORTPCG3HTIPEFSGUFY                No\n",
       "1  GBLPEA16C3KGBO57KEFO                No\n",
       "2  IDCQS0CO5P29AMKY3LO1                No\n",
       "3  1IY29SDITYU6IFZ4KJB0                No\n",
       "4  T5XMW5B0YPCONH30WJD2                No"
      ]
     },
     "execution_count": 15,
     "metadata": {},
     "output_type": "execute_result"
    }
   ],
   "source": [
    "#pred_test_full = (cb_best + xgb_best + hgb_best + lgb_best) / 4\n",
    "#pred_test_full = cb_best\n",
    "\n",
    "pred_test_full = 0\n",
    "top = 5\n",
    "indices = np.argpartition(roc_scores, -1*top)[-1*top:]\n",
    "\n",
    "for i in indices:\n",
    "    pred_test_full += test_pred[i]\n",
    "    print(\"Considering model with ROC: \",roc_scores[i])\n",
    "pred_test_full = pred_test_full/top\n",
    "\n",
    "label_dict = {\n",
    "    1 : \"Yes\" ,\n",
    "    0 : \"No\"\n",
    "}\n",
    "pred = [label_dict[np.argmax(i)] for i in pred_test_full]\n",
    "\n",
    "predictions = {\n",
    "    id_col[0] : test_ids,\n",
    "    label_col[0] : pred\n",
    "}\n",
    "pred_df = pd.DataFrame.from_dict(predictions)\n",
    "pred_df.to_csv(\"./submission.csv\", index = False)\n",
    "print(pred_df[label_col[0]].value_counts())\n",
    "pred_df.head()"
   ]
  }
 ],
 "metadata": {
  "kernelspec": {
   "display_name": "Python 3",
   "language": "python",
   "name": "python3"
  },
  "language_info": {
   "codemirror_mode": {
    "name": "ipython",
    "version": 3
   },
   "file_extension": ".py",
   "mimetype": "text/x-python",
   "name": "python",
   "nbconvert_exporter": "python",
   "pygments_lexer": "ipython3",
   "version": "3.7.10"
  },
  "papermill": {
   "default_parameters": {},
   "duration": 100.331407,
   "end_time": "2021-05-11T00:43:32.269012",
   "environment_variables": {},
   "exception": null,
   "input_path": "__notebook__.ipynb",
   "output_path": "__notebook__.ipynb",
   "parameters": {},
   "start_time": "2021-05-11T00:41:51.937605",
   "version": "2.3.3"
  }
 },
 "nbformat": 4,
 "nbformat_minor": 5
}
